{
 "cells": [
  {
   "cell_type": "markdown",
   "metadata": {},
   "source": [
    "# **QnA Classification**"
   ]
  },
  {
   "cell_type": "markdown",
   "metadata": {},
   "source": [
    "## 데이터 탐색"
   ]
  },
  {
   "cell_type": "markdown",
   "metadata": {},
   "source": [
    "### 라이브러리 불러오기"
   ]
  },
  {
   "cell_type": "code",
   "execution_count": 23,
   "metadata": {},
   "outputs": [],
   "source": [
    "import numpy as np\n",
    "import pandas as pd\n",
    "import matplotlib.pyplot as plt\n",
    "import seaborn as sns\n",
    "\n",
    "from collections import Counter\n",
    "from wordcloud import WordCloud\n",
    "import nltk\n",
    "from nltk.tokenize import word_tokenize as nltk_word_tokenize\n",
    "from nltk import FreqDist\n",
    "from konlpy.tag import Okt, Mecab\n",
    "\n",
    "import os"
   ]
  },
  {
   "cell_type": "markdown",
   "metadata": {},
   "source": [
    "### 데이터 불러오기"
   ]
  },
  {
   "cell_type": "code",
   "execution_count": 2,
   "metadata": {},
   "outputs": [],
   "source": [
    "path = \"./train.csv\"\n",
    "law_data = pd.read_csv(path)\n",
    "data = law_data.copy()"
   ]
  },
  {
   "cell_type": "code",
   "execution_count": 3,
   "metadata": {},
   "outputs": [
    {
     "data": {
      "text/html": [
       "<div>\n",
       "<style scoped>\n",
       "    .dataframe tbody tr th:only-of-type {\n",
       "        vertical-align: middle;\n",
       "    }\n",
       "\n",
       "    .dataframe tbody tr th {\n",
       "        vertical-align: top;\n",
       "    }\n",
       "\n",
       "    .dataframe thead th {\n",
       "        text-align: right;\n",
       "    }\n",
       "</style>\n",
       "<table border=\"1\" class=\"dataframe\">\n",
       "  <thead>\n",
       "    <tr style=\"text-align: right;\">\n",
       "      <th></th>\n",
       "      <th>text</th>\n",
       "      <th>label</th>\n",
       "    </tr>\n",
       "  </thead>\n",
       "  <tbody>\n",
       "    <tr>\n",
       "      <th>0</th>\n",
       "      <td>self.convs1 = nn.ModuleList([nn.Conv2d(1, Co, ...</td>\n",
       "      <td>코드2</td>\n",
       "    </tr>\n",
       "    <tr>\n",
       "      <th>1</th>\n",
       "      <td>현재 이미지를 여러개 업로드 하기 위해 자바스크립트로 동적으로 폼 여러개 생성하는데...</td>\n",
       "      <td>웹</td>\n",
       "    </tr>\n",
       "    <tr>\n",
       "      <th>2</th>\n",
       "      <td>glob.glob(PATH) 를 사용할 때 질문입니다.\\n\\nPATH에 [ ] 가 ...</td>\n",
       "      <td>코드2</td>\n",
       "    </tr>\n",
       "    <tr>\n",
       "      <th>3</th>\n",
       "      <td>tmpp = tmp.groupby(by = 'Addr1', as_index=Fals...</td>\n",
       "      <td>코드2</td>\n",
       "    </tr>\n",
       "    <tr>\n",
       "      <th>4</th>\n",
       "      <td>filename = TEST_IMAGE + str(round(frame_sec)) ...</td>\n",
       "      <td>코드2</td>\n",
       "    </tr>\n",
       "  </tbody>\n",
       "</table>\n",
       "</div>"
      ],
      "text/plain": [
       "                                                text label\n",
       "0  self.convs1 = nn.ModuleList([nn.Conv2d(1, Co, ...   코드2\n",
       "1  현재 이미지를 여러개 업로드 하기 위해 자바스크립트로 동적으로 폼 여러개 생성하는데...     웹\n",
       "2  glob.glob(PATH) 를 사용할 때 질문입니다.\\n\\nPATH에 [ ] 가 ...   코드2\n",
       "3  tmpp = tmp.groupby(by = 'Addr1', as_index=Fals...   코드2\n",
       "4  filename = TEST_IMAGE + str(round(frame_sec)) ...   코드2"
      ]
     },
     "execution_count": 3,
     "metadata": {},
     "output_type": "execute_result"
    }
   ],
   "source": [
    "data.head()"
   ]
  },
  {
   "cell_type": "markdown",
   "metadata": {},
   "source": [
    "### 원본 데이터 확인"
   ]
  },
  {
   "cell_type": "code",
   "execution_count": 11,
   "metadata": {},
   "outputs": [
    {
     "data": {
      "text/plain": [
       "text     0\n",
       "label    0\n",
       "dtype: int64"
      ]
     },
     "execution_count": 11,
     "metadata": {},
     "output_type": "execute_result"
    }
   ],
   "source": [
    "# 결측치 확인\n",
    "data.isnull().sum()"
   ]
  },
  {
   "cell_type": "code",
   "execution_count": 9,
   "metadata": {},
   "outputs": [
    {
     "name": "stdout",
     "output_type": "stream",
     "text": [
      "label\n",
      "코드2       1097\n",
      "웹          732\n",
      "이론         728\n",
      "시스템 운영     561\n",
      "코드1        488\n",
      "원격         100\n",
      "Name: count, dtype: int64\n",
      "------------------------------\n",
      "label\n",
      "코드2       29.60\n",
      "웹         19.75\n",
      "이론        19.64\n",
      "시스템 운영    15.14\n",
      "코드1       13.17\n",
      "원격         2.70\n",
      "Name: count, dtype: float64\n"
     ]
    }
   ],
   "source": [
    "# 라벨 유형 별 갯수 및 비율\n",
    "print(data[\"label\"].value_counts())\n",
    "print(\"-\"*30)\n",
    "label_percent = (data[\"label\"].value_counts() / data[\"label\"].count() * 100).round(2)\n",
    "print(label_percent)"
   ]
  },
  {
   "cell_type": "markdown",
   "metadata": {},
   "source": [
    "### 텍스트 길이 확인"
   ]
  },
  {
   "cell_type": "code",
   "execution_count": 13,
   "metadata": {},
   "outputs": [],
   "source": [
    "# 텍스트 길이 확인을 위한 컬럼 생성 및 값 부여\n",
    "data[\"txt_len\"] = data[\"text\"].apply(len)"
   ]
  },
  {
   "cell_type": "code",
   "execution_count": 14,
   "metadata": {},
   "outputs": [
    {
     "data": {
      "text/html": [
       "<div>\n",
       "<style scoped>\n",
       "    .dataframe tbody tr th:only-of-type {\n",
       "        vertical-align: middle;\n",
       "    }\n",
       "\n",
       "    .dataframe tbody tr th {\n",
       "        vertical-align: top;\n",
       "    }\n",
       "\n",
       "    .dataframe thead th {\n",
       "        text-align: right;\n",
       "    }\n",
       "</style>\n",
       "<table border=\"1\" class=\"dataframe\">\n",
       "  <thead>\n",
       "    <tr style=\"text-align: right;\">\n",
       "      <th></th>\n",
       "      <th>text</th>\n",
       "      <th>label</th>\n",
       "      <th>txt_len</th>\n",
       "    </tr>\n",
       "  </thead>\n",
       "  <tbody>\n",
       "    <tr>\n",
       "      <th>0</th>\n",
       "      <td>self.convs1 = nn.ModuleList([nn.Conv2d(1, Co, ...</td>\n",
       "      <td>코드2</td>\n",
       "      <td>144</td>\n",
       "    </tr>\n",
       "    <tr>\n",
       "      <th>1</th>\n",
       "      <td>현재 이미지를 여러개 업로드 하기 위해 자바스크립트로 동적으로 폼 여러개 생성하는데...</td>\n",
       "      <td>웹</td>\n",
       "      <td>119</td>\n",
       "    </tr>\n",
       "    <tr>\n",
       "      <th>2</th>\n",
       "      <td>glob.glob(PATH) 를 사용할 때 질문입니다.\\n\\nPATH에 [ ] 가 ...</td>\n",
       "      <td>코드2</td>\n",
       "      <td>147</td>\n",
       "    </tr>\n",
       "    <tr>\n",
       "      <th>3</th>\n",
       "      <td>tmpp = tmp.groupby(by = 'Addr1', as_index=Fals...</td>\n",
       "      <td>코드2</td>\n",
       "      <td>279</td>\n",
       "    </tr>\n",
       "    <tr>\n",
       "      <th>4</th>\n",
       "      <td>filename = TEST_IMAGE + str(round(frame_sec)) ...</td>\n",
       "      <td>코드2</td>\n",
       "      <td>144</td>\n",
       "    </tr>\n",
       "  </tbody>\n",
       "</table>\n",
       "</div>"
      ],
      "text/plain": [
       "                                                text label  txt_len\n",
       "0  self.convs1 = nn.ModuleList([nn.Conv2d(1, Co, ...   코드2      144\n",
       "1  현재 이미지를 여러개 업로드 하기 위해 자바스크립트로 동적으로 폼 여러개 생성하는데...     웹      119\n",
       "2  glob.glob(PATH) 를 사용할 때 질문입니다.\\n\\nPATH에 [ ] 가 ...   코드2      147\n",
       "3  tmpp = tmp.groupby(by = 'Addr1', as_index=Fals...   코드2      279\n",
       "4  filename = TEST_IMAGE + str(round(frame_sec)) ...   코드2      144"
      ]
     },
     "execution_count": 14,
     "metadata": {},
     "output_type": "execute_result"
    }
   ],
   "source": [
    "data.head()"
   ]
  },
  {
   "cell_type": "code",
   "execution_count": 16,
   "metadata": {},
   "outputs": [
    {
     "data": {
      "text/plain": [
       "(6012, 9, 200.95736643281165)"
      ]
     },
     "execution_count": 16,
     "metadata": {},
     "output_type": "execute_result"
    }
   ],
   "source": [
    "# 텍스트 길이 최대값, 최소값, 평균 확인\n",
    "data[\"txt_len\"].max(), data[\"txt_len\"].min(), data[\"txt_len\"].mean()"
   ]
  },
  {
   "cell_type": "code",
   "execution_count": 22,
   "metadata": {},
   "outputs": [
    {
     "data": {
      "text/html": [
       "<div>\n",
       "<style scoped>\n",
       "    .dataframe tbody tr th:only-of-type {\n",
       "        vertical-align: middle;\n",
       "    }\n",
       "\n",
       "    .dataframe tbody tr th {\n",
       "        vertical-align: top;\n",
       "    }\n",
       "\n",
       "    .dataframe thead th {\n",
       "        text-align: right;\n",
       "    }\n",
       "</style>\n",
       "<table border=\"1\" class=\"dataframe\">\n",
       "  <thead>\n",
       "    <tr style=\"text-align: right;\">\n",
       "      <th></th>\n",
       "      <th>text</th>\n",
       "      <th>label</th>\n",
       "      <th>txt_len</th>\n",
       "    </tr>\n",
       "  </thead>\n",
       "  <tbody>\n",
       "    <tr>\n",
       "      <th>472</th>\n",
       "      <td>NoSuchElementException                    Trac...</td>\n",
       "      <td>웹</td>\n",
       "      <td>5489</td>\n",
       "    </tr>\n",
       "    <tr>\n",
       "      <th>834</th>\n",
       "      <td>C:\\dev\\mysite_std&amp;gt; python .\\manage.py make...</td>\n",
       "      <td>웹</td>\n",
       "      <td>5187</td>\n",
       "    </tr>\n",
       "    <tr>\n",
       "      <th>1255</th>\n",
       "      <td>$ python manage.py createsuperuser\\n\\nYou have...</td>\n",
       "      <td>웹</td>\n",
       "      <td>5690</td>\n",
       "    </tr>\n",
       "    <tr>\n",
       "      <th>1617</th>\n",
       "      <td>교수님이 치시는거 따라 쳤는데 계속 저 오류가 반복합니다.\\n\\n# 대여소별 이용건...</td>\n",
       "      <td>코드2</td>\n",
       "      <td>5454</td>\n",
       "    </tr>\n",
       "    <tr>\n",
       "      <th>2561</th>\n",
       "      <td>sns.kdeplot(x = td[var])\\nplt.show()\\n\\n------...</td>\n",
       "      <td>코드2</td>\n",
       "      <td>6012</td>\n",
       "    </tr>\n",
       "  </tbody>\n",
       "</table>\n",
       "</div>"
      ],
      "text/plain": [
       "                                                   text label  txt_len\n",
       "472   NoSuchElementException                    Trac...     웹     5489\n",
       "834    C:\\dev\\mysite_std&gt; python .\\manage.py make...     웹     5187\n",
       "1255  $ python manage.py createsuperuser\\n\\nYou have...     웹     5690\n",
       "1617  교수님이 치시는거 따라 쳤는데 계속 저 오류가 반복합니다.\\n\\n# 대여소별 이용건...   코드2     5454\n",
       "2561  sns.kdeplot(x = td[var])\\nplt.show()\\n\\n------...   코드2     6012"
      ]
     },
     "execution_count": 22,
     "metadata": {},
     "output_type": "execute_result"
    }
   ],
   "source": [
    "# 텍스트 길이 상위, 하위 값의 내용 형태 확인\n",
    "data[data[\"txt_len\"] > 5000].head()"
   ]
  },
  {
   "cell_type": "code",
   "execution_count": 21,
   "metadata": {},
   "outputs": [
    {
     "data": {
      "text/html": [
       "<div>\n",
       "<style scoped>\n",
       "    .dataframe tbody tr th:only-of-type {\n",
       "        vertical-align: middle;\n",
       "    }\n",
       "\n",
       "    .dataframe tbody tr th {\n",
       "        vertical-align: top;\n",
       "    }\n",
       "\n",
       "    .dataframe thead th {\n",
       "        text-align: right;\n",
       "    }\n",
       "</style>\n",
       "<table border=\"1\" class=\"dataframe\">\n",
       "  <thead>\n",
       "    <tr style=\"text-align: right;\">\n",
       "      <th></th>\n",
       "      <th>text</th>\n",
       "      <th>label</th>\n",
       "      <th>txt_len</th>\n",
       "    </tr>\n",
       "  </thead>\n",
       "  <tbody>\n",
       "    <tr>\n",
       "      <th>66</th>\n",
       "      <td>가치제안을 위한 필요사항</td>\n",
       "      <td>이론</td>\n",
       "      <td>13</td>\n",
       "    </tr>\n",
       "    <tr>\n",
       "      <th>226</th>\n",
       "      <td>타임아웃이 왜 뜨는지 궁금합니다!</td>\n",
       "      <td>웹</td>\n",
       "      <td>18</td>\n",
       "    </tr>\n",
       "    <tr>\n",
       "      <th>334</th>\n",
       "      <td>원격제어를 추가하는 것이 안됩니다</td>\n",
       "      <td>원격</td>\n",
       "      <td>18</td>\n",
       "    </tr>\n",
       "    <tr>\n",
       "      <th>336</th>\n",
       "      <td>특강은 녹화본 올라올까요?</td>\n",
       "      <td>시스템 운영</td>\n",
       "      <td>14</td>\n",
       "    </tr>\n",
       "    <tr>\n",
       "      <th>381</th>\n",
       "      <td>제출은 어떤 걸 하나요?</td>\n",
       "      <td>시스템 운영</td>\n",
       "      <td>13</td>\n",
       "    </tr>\n",
       "  </tbody>\n",
       "</table>\n",
       "</div>"
      ],
      "text/plain": [
       "                   text   label  txt_len\n",
       "66        가치제안을 위한 필요사항      이론       13\n",
       "226  타임아웃이 왜 뜨는지 궁금합니다!       웹       18\n",
       "334  원격제어를 추가하는 것이 안됩니다      원격       18\n",
       "336      특강은 녹화본 올라올까요?  시스템 운영       14\n",
       "381       제출은 어떤 걸 하나요?  시스템 운영       13"
      ]
     },
     "execution_count": 21,
     "metadata": {},
     "output_type": "execute_result"
    }
   ],
   "source": [
    "data[data[\"txt_len\"] < 20].head()"
   ]
  },
  {
   "cell_type": "markdown",
   "metadata": {},
   "source": [
    "### 명사 추출 및 품사 태깅"
   ]
  },
  {
   "cell_type": "code",
   "execution_count": null,
   "metadata": {},
   "outputs": [],
   "source": [
    "from konlpy.tag import Okt, Mecab\n",
    "from mecab import MeCab\n",
    "import time"
   ]
  },
  {
   "cell_type": "code",
   "execution_count": null,
   "metadata": {},
   "outputs": [],
   "source": [
    "okt = Okt()\n",
    "\n",
    "# 명사 추출, 형태소 추출, 품사 태깅 진행\n",
    "data[\"nouns\"] = data[\"text\"].apply(lambda x: okt.nouns(x))\n",
    "data[\"morphs\"] = data[\"text\"].apply(lambda x: okt.morphs(x))\n",
    "data[\"pos\"] = data[\"text\"].apply(lambda x: okt.pos(x))"
   ]
  },
  {
   "cell_type": "code",
   "execution_count": null,
   "metadata": {},
   "outputs": [],
   "source": [
    "data.head()"
   ]
  },
  {
   "cell_type": "markdown",
   "metadata": {},
   "source": [
    "### 불용어 처리"
   ]
  },
  {
   "cell_type": "code",
   "execution_count": null,
   "metadata": {},
   "outputs": [],
   "source": [
    "# 불용어 사전을 이용하여 불용어 불러오기\n",
    "with open(\"./Stopwords_ko.txt\", \"r\", encoding=\"utf-8\") as f:\n",
    "    stopwords = f.readlines()\n",
    "stopwords = [x.strip() for x in stopwords]"
   ]
  },
  {
   "cell_type": "code",
   "execution_count": null,
   "metadata": {},
   "outputs": [],
   "source": [
    "# 불용어 처리\n",
    "data[\"nouns_no_sw\"] = data[\"nouns\"].apply(lambda x: [word for word in x if word not in stopwords])"
   ]
  },
  {
   "cell_type": "markdown",
   "metadata": {},
   "source": [
    "### 단어 빈도수 확인"
   ]
  },
  {
   "cell_type": "markdown",
   "metadata": {},
   "source": []
  }
 ],
 "metadata": {
  "kernelspec": {
   "display_name": "Project_QnA",
   "language": "python",
   "name": "python3"
  },
  "language_info": {
   "codemirror_mode": {
    "name": "ipython",
    "version": 3
   },
   "file_extension": ".py",
   "mimetype": "text/x-python",
   "name": "python",
   "nbconvert_exporter": "python",
   "pygments_lexer": "ipython3",
   "version": "3.8.17"
  },
  "orig_nbformat": 4
 },
 "nbformat": 4,
 "nbformat_minor": 2
}
